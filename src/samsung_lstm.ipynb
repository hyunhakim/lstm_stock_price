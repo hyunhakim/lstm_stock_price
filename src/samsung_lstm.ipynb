{
 "cells": [
  {
   "cell_type": "code",
   "execution_count": 30,
   "metadata": {},
   "outputs": [],
   "source": [
    "import numpy as np\n",
    "import pandas as pd\n",
    "from sklearn.model_selection import train_test_split\n",
    "from keras import models, layers, activations, initializers, losses, optimizers, metrics\n",
    "from keras.models import Sequential, Model\n",
    "from keras.layers import Input, LeakyReLU, BatchNormalization, LSTM\n",
    "from sklearn.preprocessing import MinMaxScaler, StandardScaler\n",
    "from keras.layers.core import Dense, Activation, Dropout"
   ]
  },
  {
   "cell_type": "code",
   "execution_count": 31,
   "metadata": {},
   "outputs": [],
   "source": [
    "def split_sequence(sequence, n_steps):\n",
    "    X, y = list(), list()\n",
    "    length = len(sequence)\n",
    "    col_length = len(sequence[0])\n",
    "    for i in range(length):\n",
    "        end_ix = i + n_steps\n",
    "        if end_ix > length-1:\n",
    "            break\n",
    "        seq_x, seq_y = sequence[i:end_ix, :], sequence[end_ix, col_length-1]\n",
    "        X.append(seq_x)\n",
    "        y.append(seq_y)\n",
    "    return np.array(X), np.array(y)"
   ]
  },
  {
   "cell_type": "code",
   "execution_count": 32,
   "metadata": {},
   "outputs": [],
   "source": [
    "data = pd.read_csv('data/samsung.csv', encoding='euc-kr')\n",
    "data = data.sort_values(['일자'], ascending=[True])\n",
    "\n",
    "data = data.iloc[:,1:].copy()\n",
    "\n",
    "data = pd.concat([data.iloc[:,:3], data.iloc[:,4], data.iloc[:,3]], axis=1)\n",
    "\n",
    "for i in data.columns:\n",
    "    data[i] = data[i].apply(lambda x: x.replace(\",\",\"\",-1))\n",
    "\n",
    "for i in data.columns:\n",
    "    data[i] = data[i].astype(int)\n",
    "\n",
    "data = np.array(data)"
   ]
  },
  {
   "cell_type": "code",
   "execution_count": 33,
   "metadata": {},
   "outputs": [],
   "source": [
    "n_steps = 5\n",
    "x_data, y_data = split_sequence(data, n_steps)"
   ]
  },
  {
   "cell_type": "code",
   "execution_count": 34,
   "metadata": {},
   "outputs": [
    {
     "data": {
      "text/plain": [
       "(421, 25, 1)"
      ]
     },
     "execution_count": 34,
     "metadata": {},
     "output_type": "execute_result"
    }
   ],
   "source": [
    "x_data = x_data.reshape((x_data.shape[0], -1))\n",
    "scaler = StandardScaler()\n",
    "scaler.fit(x_data)\n",
    "x_data = scaler.transform(x_data)\n",
    "x_data = x_data.reshape((x_data.shape[0], -1, 1))\n",
    "x_data.shape"
   ]
  },
  {
   "cell_type": "code",
   "execution_count": 35,
   "metadata": {},
   "outputs": [],
   "source": [
    "final_predict_data = x_data[-1:,:].copy()"
   ]
  },
  {
   "cell_type": "code",
   "execution_count": 36,
   "metadata": {},
   "outputs": [],
   "source": [
    "from sklearn.model_selection import train_test_split\n",
    "\n",
    "x_train, x_test, y_train, y_test = train_test_split(\n",
    "    x_data, y_data, train_size=0.9, random_state=66, shuffle=True\n",
    ")"
   ]
  },
  {
   "cell_type": "code",
   "execution_count": 37,
   "metadata": {
    "scrolled": true
   },
   "outputs": [
    {
     "name": "stdout",
     "output_type": "stream",
     "text": [
      "Epoch 1/100\n",
      "378/378 [==============================] - 5s 12ms/step - loss: 11860348844.8677 - acc: 0.0000e+00\n",
      "Epoch 2/100\n",
      "378/378 [==============================] - 4s 10ms/step - loss: 2189718598.7725 - acc: 0.0000e+00\n",
      "Epoch 3/100\n",
      "378/378 [==============================] - 4s 10ms/step - loss: 16151063008.1270 - acc: 0.0000e+00\n",
      "Epoch 4/100\n",
      "378/378 [==============================] - 4s 10ms/step - loss: 2088477888.0000 - acc: 0.0000e+00\n",
      "Epoch 5/100\n",
      "378/378 [==============================] - 4s 10ms/step - loss: 2043442148.2328 - acc: 0.0000e+00\n",
      "Epoch 6/100\n",
      "378/378 [==============================] - 4s 10ms/step - loss: 1949149294.5608 - acc: 0.0000e+00\n",
      "Epoch 7/100\n",
      "378/378 [==============================] - 4s 10ms/step - loss: 9181949218.2857 - acc: 0.0000e+00\n",
      "Epoch 8/100\n",
      "378/378 [==============================] - 4s 10ms/step - loss: 1701065331.8095 - acc: 0.0000e+00\n",
      "Epoch 9/100\n",
      "378/378 [==============================] - 4s 10ms/step - loss: 1403455932658981.2500 - acc: 0.0000e+00\n",
      "Epoch 10/100\n",
      "378/378 [==============================] - 4s 10ms/step - loss: 1933530232.8889 - acc: 0.0000e+00\n",
      "Epoch 11/100\n",
      "378/378 [==============================] - 4s 10ms/step - loss: 1933548079.4074 - acc: 0.0000e+00\n",
      "Epoch 12/100\n",
      "378/378 [==============================] - 4s 10ms/step - loss: 1924467025.9471 - acc: 0.0000e+00\n",
      "Epoch 13/100\n",
      "378/378 [==============================] - 4s 10ms/step - loss: 1925619474.6243 - acc: 0.0000e+00\n",
      "Epoch 14/100\n",
      "378/378 [==============================] - 4s 11ms/step - loss: 1909419686.2646 - acc: 0.0000e+00\n",
      "Epoch 15/100\n",
      "378/378 [==============================] - 4s 10ms/step - loss: 1895347963.5979 - acc: 0.0000e+00\n",
      "Epoch 16/100\n",
      "378/378 [==============================] - 4s 10ms/step - loss: 1878941566.6455 - acc: 0.0000e+00\n",
      "Epoch 17/100\n",
      "378/378 [==============================] - 4s 11ms/step - loss: 1869793562.4127 - acc: 0.0000e+00\n",
      "Epoch 18/100\n",
      "378/378 [==============================] - 4s 12ms/step - loss: 1848836761.2275 - acc: 0.0000e+00\n",
      "Epoch 19/100\n",
      "378/378 [==============================] - 5s 13ms/step - loss: 1821685345.0159 - acc: 0.0000e+00\n",
      "Epoch 20/100\n",
      "378/378 [==============================] - 5s 13ms/step - loss: 1800416893.4603 - acc: 0.0000e+00\n",
      "Epoch 21/100\n",
      "378/378 [==============================] - 5s 13ms/step - loss: 1779233372.7831 - acc: 0.0000e+00\n",
      "Epoch 22/100\n",
      "378/378 [==============================] - 5s 13ms/step - loss: 1748363052.6984 - acc: 0.0000e+00\n",
      "Epoch 23/100\n",
      "378/378 [==============================] - 5s 13ms/step - loss: 1701040280.2116 - acc: 0.0000e+00\n",
      "Epoch 24/100\n",
      "378/378 [==============================] - 5s 13ms/step - loss: 264126606873.0582 - acc: 0.0000e+00\n",
      "Epoch 25/100\n",
      "378/378 [==============================] - 5s 13ms/step - loss: 1658720610.8783 - acc: 0.0000e+00\n",
      "Epoch 26/100\n",
      "378/378 [==============================] - 5s 13ms/step - loss: 1647628059.4286 - acc: 0.0000e+00\n",
      "Epoch 27/100\n",
      "378/378 [==============================] - 5s 13ms/step - loss: 15308347803.7672 - acc: 0.0000e+00\n",
      "Epoch 28/100\n",
      "378/378 [==============================] - 5s 13ms/step - loss: 1647720088.2116 - acc: 0.0000e+00\n",
      "Epoch 29/100\n",
      "378/378 [==============================] - 5s 13ms/step - loss: 1630127754.8360 - acc: 0.0000e+00\n",
      "Epoch 30/100\n",
      "378/378 [==============================] - 5s 13ms/step - loss: 1615305260.1905 - acc: 0.0000e+00\n",
      "Epoch 31/100\n",
      "378/378 [==============================] - 5s 14ms/step - loss: 1598855858.7937 - acc: 0.0000e+00\n",
      "Epoch 32/100\n",
      "378/378 [==============================] - 5s 14ms/step - loss: 1586241482.1587 - acc: 0.0000e+00\n",
      "Epoch 33/100\n",
      "378/378 [==============================] - 5s 13ms/step - loss: 1564478484.3175 - acc: 0.0000e+00\n",
      "Epoch 34/100\n",
      "378/378 [==============================] - 5s 13ms/step - loss: 1538195428.4021 - acc: 0.0000e+00\n",
      "Epoch 35/100\n",
      "378/378 [==============================] - 5s 13ms/step - loss: 1527720763.5979 - acc: 0.0000e+00\n",
      "Epoch 36/100\n",
      "378/378 [==============================] - 5s 13ms/step - loss: 1484661544.9735 - acc: 0.0000e+00\n",
      "Epoch 37/100\n",
      "378/378 [==============================] - 5s 13ms/step - loss: 1430154450.1587 - acc: 0.0000e+00\n",
      "Epoch 38/100\n",
      "378/378 [==============================] - 5s 13ms/step - loss: 5973886306.8889 - acc: 0.0000e+00\n",
      "Epoch 39/100\n",
      "378/378 [==============================] - 5s 14ms/step - loss: 1379754662.1799 - acc: 0.0000e+00\n",
      "Epoch 40/100\n",
      "378/378 [==============================] - 5s 13ms/step - loss: 1320800266.7513 - acc: 0.0000e+00\n",
      "Epoch 41/100\n",
      "378/378 [==============================] - 5s 13ms/step - loss: 1289909452.7831 - acc: 0.0000e+00\n",
      "Epoch 42/100\n",
      "378/378 [==============================] - 5s 13ms/step - loss: 1203563493.4180 - acc: 0.0000e+00\n",
      "Epoch 43/100\n",
      "378/378 [==============================] - 5s 13ms/step - loss: 1123316761.9683 - acc: 0.0000e+00\n",
      "Epoch 44/100\n",
      "378/378 [==============================] - 5s 13ms/step - loss: 903665623.0042 - acc: 0.0000e+00\n",
      "Epoch 45/100\n",
      "378/378 [==============================] - 5s 13ms/step - loss: 716638786.2606 - acc: 0.0000e+00\n",
      "Epoch 46/100\n",
      "378/378 [==============================] - 5s 13ms/step - loss: 192256145.3296 - acc: 0.0000e+00\n",
      "Epoch 47/100\n",
      "378/378 [==============================] - 5s 13ms/step - loss: 171623026.4829 - acc: 0.0000e+00\n",
      "Epoch 48/100\n",
      "378/378 [==============================] - 5s 13ms/step - loss: 150648667.8952 - acc: 0.0000e+00\n",
      "Epoch 49/100\n",
      "378/378 [==============================] - 5s 13ms/step - loss: 173706347.1889 - acc: 0.0000e+00\n",
      "Epoch 50/100\n",
      "378/378 [==============================] - 5s 13ms/step - loss: 149952855.5099 - acc: 0.0000e+00\n",
      "Epoch 51/100\n",
      "378/378 [==============================] - 5s 13ms/step - loss: 141242982.4786 - acc: 0.0000e+00\n",
      "Epoch 52/100\n",
      "378/378 [==============================] - 5s 14ms/step - loss: 137844468.6795 - acc: 0.0000e+00\n",
      "Epoch 53/100\n",
      "378/378 [==============================] - 5s 14ms/step - loss: 144362148.8003 - acc: 0.0000e+00\n",
      "Epoch 54/100\n",
      "378/378 [==============================] - 5s 13ms/step - loss: 137876463.0243 - acc: 0.0000e+00\n",
      "Epoch 55/100\n",
      "378/378 [==============================] - 5s 14ms/step - loss: 133106690.0538 - acc: 0.0000e+00\n",
      "Epoch 56/100\n",
      "378/378 [==============================] - 5s 14ms/step - loss: 124518154.5191 - acc: 0.0000e+00\n",
      "Epoch 57/100\n",
      "378/378 [==============================] - 5s 14ms/step - loss: 119292116.0718 - acc: 0.0000e+00\n",
      "Epoch 58/100\n",
      "378/378 [==============================] - 5s 13ms/step - loss: 110121322.9417 - acc: 0.0000e+00\n",
      "Epoch 59/100\n",
      "378/378 [==============================] - 5s 13ms/step - loss: 95712338.9625 - acc: 0.0000e+00\n",
      "Epoch 60/100\n",
      "378/378 [==============================] - 5s 13ms/step - loss: 88563577.1461 - acc: 0.0000e+00\n",
      "Epoch 61/100\n",
      "378/378 [==============================] - 5s 14ms/step - loss: 86216117.7051 - acc: 0.0000e+00\n",
      "Epoch 62/100\n",
      "378/378 [==============================] - 5s 14ms/step - loss: 88045517.2180 - acc: 0.0000e+00\n",
      "Epoch 63/100\n",
      "378/378 [==============================] - 5s 14ms/step - loss: 79126776.8252 - acc: 0.0000e+00\n",
      "Epoch 64/100\n",
      "378/378 [==============================] - 5s 14ms/step - loss: 77051765.1385 - acc: 0.0000e+00\n",
      "Epoch 65/100\n",
      "378/378 [==============================] - 5s 14ms/step - loss: 74919855.3874 - acc: 0.0000e+00\n",
      "Epoch 66/100\n",
      "378/378 [==============================] - 5s 14ms/step - loss: 67051820.4858 - acc: 0.0000e+00\n",
      "Epoch 67/100\n",
      "378/378 [==============================] - 5s 14ms/step - loss: 60551827.8910 - acc: 0.0000e+00\n",
      "Epoch 68/100\n",
      "378/378 [==============================] - 5s 14ms/step - loss: 61061541.9920 - acc: 0.0000e+00\n",
      "Epoch 69/100\n",
      "378/378 [==============================] - 5s 14ms/step - loss: 55372201.5134 - acc: 0.0000e+00\n",
      "Epoch 70/100\n",
      "378/378 [==============================] - 5s 14ms/step - loss: 53719162.9380 - acc: 0.0000e+00\n",
      "Epoch 71/100\n",
      "378/378 [==============================] - 5s 14ms/step - loss: 55548079.6106 - acc: 0.0000e+00\n",
      "Epoch 72/100\n",
      "378/378 [==============================] - 5s 14ms/step - loss: 48754871.3438 - acc: 0.0000e+00\n",
      "Epoch 73/100\n",
      "378/378 [==============================] - 5s 13ms/step - loss: 48381921.2906 - acc: 0.0000e+00\n",
      "Epoch 74/100\n",
      "378/378 [==============================] - 5s 13ms/step - loss: 43088943.4449 - acc: 0.0000e+00\n",
      "Epoch 75/100\n"
     ]
    },
    {
     "name": "stdout",
     "output_type": "stream",
     "text": [
      "378/378 [==============================] - 5s 13ms/step - loss: 42132685.0925 - acc: 0.0000e+00\n",
      "Epoch 76/100\n",
      "378/378 [==============================] - 5s 13ms/step - loss: 48213487.7432 - acc: 0.0000e+00\n",
      "Epoch 77/100\n",
      "378/378 [==============================] - 5s 13ms/step - loss: 36644512.6268 - acc: 0.0000e+00\n",
      "Epoch 78/100\n",
      "378/378 [==============================] - 5s 14ms/step - loss: 41827663.5782 - acc: 0.0000e+00\n",
      "Epoch 79/100\n",
      "378/378 [==============================] - 5s 14ms/step - loss: 36496350.7022 - acc: 0.0000e+00\n",
      "Epoch 80/100\n",
      "378/378 [==============================] - 5s 14ms/step - loss: 36780157.9992 - acc: 0.0000e+00\n",
      "Epoch 81/100\n",
      "378/378 [==============================] - 5s 14ms/step - loss: 34659411.5025 - acc: 0.0000e+00\n",
      "Epoch 82/100\n",
      "378/378 [==============================] - 5s 14ms/step - loss: 34011194.8564 - acc: 0.0000e+00\n",
      "Epoch 83/100\n",
      "378/378 [==============================] - 5s 14ms/step - loss: 28422223.4468 - acc: 0.0000e+00\n",
      "Epoch 84/100\n",
      "378/378 [==============================] - 5s 14ms/step - loss: 31942753.2067 - acc: 0.0000e+00\n",
      "Epoch 85/100\n",
      "378/378 [==============================] - 5s 14ms/step - loss: 27419772.9382 - acc: 0.0000e+00\n",
      "Epoch 86/100\n",
      "378/378 [==============================] - 5s 14ms/step - loss: 30370787.5872 - acc: 0.0000e+00\n",
      "Epoch 87/100\n",
      "378/378 [==============================] - 5s 14ms/step - loss: 30365727.4851 - acc: 0.0026\n",
      "Epoch 88/100\n",
      "378/378 [==============================] - 5s 14ms/step - loss: 29466492.2355 - acc: 0.0000e+00\n",
      "Epoch 89/100\n",
      "378/378 [==============================] - 5s 14ms/step - loss: 25416186.1154 - acc: 0.0026\n",
      "Epoch 90/100\n",
      "378/378 [==============================] - 5s 14ms/step - loss: 26600948.0791 - acc: 0.0000e+00\n",
      "Epoch 91/100\n",
      "378/378 [==============================] - 5s 14ms/step - loss: 30110266.8270 - acc: 0.0000e+00\n",
      "Epoch 92/100\n",
      "378/378 [==============================] - 5s 14ms/step - loss: 26047298.7759 - acc: 0.0000e+00\n",
      "Epoch 93/100\n",
      "378/378 [==============================] - 5s 14ms/step - loss: 26553154.4961 - acc: 0.0000e+00\n",
      "Epoch 94/100\n",
      "378/378 [==============================] - 5s 14ms/step - loss: 26990870.6156 - acc: 0.0026\n",
      "Epoch 95/100\n",
      "378/378 [==============================] - 5s 14ms/step - loss: 27322066.2393 - acc: 0.0000e+00\n",
      "Epoch 96/100\n",
      "378/378 [==============================] - 5s 14ms/step - loss: 24248904.9218 - acc: 0.0000e+00\n",
      "Epoch 97/100\n",
      "378/378 [==============================] - 5s 14ms/step - loss: 23420763.5115 - acc: 0.0000e+00\n",
      "Epoch 98/100\n",
      "378/378 [==============================] - 5s 14ms/step - loss: 24946864.6453 - acc: 0.0000e+00\n",
      "Epoch 99/100\n",
      "378/378 [==============================] - 5s 14ms/step - loss: 24542418.6603 - acc: 0.0000e+00\n",
      "Epoch 100/100\n",
      "378/378 [==============================] - 5s 14ms/step - loss: 27219077.9411 - acc: 0.0000e+00\n"
     ]
    },
    {
     "data": {
      "text/plain": [
       "<keras.callbacks.History at 0x2356fcb6978>"
      ]
     },
     "execution_count": 37,
     "metadata": {},
     "output_type": "execute_result"
    }
   ],
   "source": [
    "inp = Input(shape=(x_train.shape[1],x_train.shape[2]))\n",
    "x1 = LSTM(128, activation='relu')(inp)\n",
    "x1 = Dense(256)(x1)\n",
    "x1 = LeakyReLU(alpha=0.05)(x1)\n",
    "x1 = Dropout(0.4)(x1)\n",
    "x1 = Dense(128)(x1)\n",
    "x1 = LeakyReLU(alpha=0.05)(x1)\n",
    "x1 = Dropout(0.25)(x1)\n",
    "x1 = Dense(64)(x1)\n",
    "x1 = LeakyReLU(alpha=0.05)(x1)\n",
    "out = Dense(1)(x1)\n",
    "\n",
    "model = Model(inputs=inp, outputs=out)\n",
    "# 훈련\n",
    "model.compile(loss='mse', optimizer='adam', metrics=['acc'])\n",
    "model.fit(x_train, y_train, epochs=100, batch_size=1)"
   ]
  },
  {
   "cell_type": "code",
   "execution_count": 38,
   "metadata": {},
   "outputs": [],
   "source": [
    "y_predict = model.predict(x_test)"
   ]
  },
  {
   "cell_type": "code",
   "execution_count": 39,
   "metadata": {},
   "outputs": [
    {
     "name": "stdout",
     "output_type": "stream",
     "text": [
      "RMSE : 2557.0859815925473\n"
     ]
    }
   ],
   "source": [
    "from sklearn.metrics import mean_squared_error\n",
    "def RMSE(y_test, y_predict): # 실제 정답값, 모델을 통한 예측값 \n",
    "    return np.sqrt(mean_squared_error(y_test, y_predict))\n",
    "print('RMSE :', RMSE(y_test, y_predict))"
   ]
  },
  {
   "cell_type": "code",
   "execution_count": 40,
   "metadata": {},
   "outputs": [
    {
     "name": "stdout",
     "output_type": "stream",
     "text": [
      "[[55333.98]]\n"
     ]
    }
   ],
   "source": [
    "print(model.predict(final_predict_data))"
   ]
  }
 ],
 "metadata": {
  "kernelspec": {
   "display_name": "Python 3",
   "language": "python",
   "name": "python3"
  },
  "language_info": {
   "codemirror_mode": {
    "name": "ipython",
    "version": 3
   },
   "file_extension": ".py",
   "mimetype": "text/x-python",
   "name": "python",
   "nbconvert_exporter": "python",
   "pygments_lexer": "ipython3",
   "version": "3.7.3"
  }
 },
 "nbformat": 4,
 "nbformat_minor": 4
}
