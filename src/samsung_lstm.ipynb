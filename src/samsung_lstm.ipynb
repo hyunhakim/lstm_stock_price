{
 "cells": [
  {
   "cell_type": "code",
   "execution_count": 16,
   "metadata": {},
   "outputs": [],
   "source": [
    "import numpy as np\n",
    "import pandas as pd\n",
    "from sklearn.model_selection import train_test_split\n",
    "from keras import models, layers, activations, initializers, losses, optimizers, metrics\n",
    "from keras.models import Sequential, Model\n",
    "from keras.layers import Input, LeakyReLU, BatchNormalization, LSTM\n",
    "from sklearn.preprocessing import MinMaxScaler, StandardScaler\n",
    "from keras.layers.core import Dense, Activation, Dropout"
   ]
  },
  {
   "cell_type": "code",
   "execution_count": 17,
   "metadata": {},
   "outputs": [],
   "source": [
    "def split_sequence(sequence, n_steps):\n",
    "    X, y = list(), list()\n",
    "    length = len(sequence)\n",
    "    col_length = len(sequence[0])\n",
    "    for i in range(length):\n",
    "        end_ix = i + n_steps\n",
    "        if end_ix > length-1:\n",
    "            break\n",
    "        seq_x, seq_y = sequence[i:end_ix, :], sequence[end_ix, col_length-1]\n",
    "        X.append(seq_x)\n",
    "        y.append(seq_y)\n",
    "    return np.array(X), np.array(y)"
   ]
  },
  {
   "cell_type": "code",
   "execution_count": 18,
   "metadata": {},
   "outputs": [],
   "source": [
    "data = pd.read_csv('data/samsung.csv', encoding='euc-kr')\n",
    "\n",
    "data = data.iloc[:,1:].copy()\n",
    "\n",
    "data = pd.concat([data.iloc[:,:3], data.iloc[:,4], data.iloc[:,3]], axis=1)\n",
    "\n",
    "for i in data.columns:\n",
    "    data[i] = data[i].apply(lambda x: x.replace(\",\",\"\",-1))\n",
    "\n",
    "for i in data.columns:\n",
    "    data[i] = data[i].astype(int)\n",
    "\n",
    "data = np.array(data)"
   ]
  },
  {
   "cell_type": "code",
   "execution_count": 19,
   "metadata": {},
   "outputs": [],
   "source": [
    "n_steps = 5\n",
    "x_data, y_data = split_sequence(data, n_steps)"
   ]
  },
  {
   "cell_type": "code",
   "execution_count": 20,
   "metadata": {},
   "outputs": [
    {
     "data": {
      "text/plain": [
       "(421, 25, 1)"
      ]
     },
     "execution_count": 20,
     "metadata": {},
     "output_type": "execute_result"
    }
   ],
   "source": [
    "x_data = x_data.reshape((x_data.shape[0], -1))\n",
    "scaler = StandardScaler()\n",
    "scaler.fit(x_data)\n",
    "x_data = scaler.transform(x_data)\n",
    "x_data = x_data.reshape((x_data.shape[0], -1, 1))\n",
    "x_data.shape"
   ]
  },
  {
   "cell_type": "code",
   "execution_count": 21,
   "metadata": {},
   "outputs": [],
   "source": [
    "final_predict_data = x_data[-1:,:].copy()"
   ]
  },
  {
   "cell_type": "code",
   "execution_count": 22,
   "metadata": {},
   "outputs": [],
   "source": [
    "from sklearn.model_selection import train_test_split\n",
    "\n",
    "x_train, x_test, y_train, y_test = train_test_split(\n",
    "    x_data, y_data, train_size=0.9, random_state=66, shuffle=True\n",
    ")"
   ]
  },
  {
   "cell_type": "code",
   "execution_count": 25,
   "metadata": {
    "scrolled": true
   },
   "outputs": [
    {
     "name": "stdout",
     "output_type": "stream",
     "text": [
      "WARNING:tensorflow:From C:\\Users\\student\\Anaconda3\\lib\\site-packages\\tensorflow\\python\\ops\\math_ops.py:3066: to_int32 (from tensorflow.python.ops.math_ops) is deprecated and will be removed in a future version.\n",
      "Instructions for updating:\n",
      "Use tf.cast instead.\n",
      "Epoch 1/100\n",
      "378/378 [==============================] - 4s 12ms/step - loss: 19869193831.1958 - acc: 0.0000e+00\n",
      "Epoch 2/100\n",
      "378/378 [==============================] - 4s 10ms/step - loss: 2158893576.8042 - acc: 0.0000e+00\n",
      "Epoch 3/100\n",
      "378/378 [==============================] - 4s 10ms/step - loss: 14384588929.0159 - acc: 0.0000e+00\n",
      "Epoch 4/100\n",
      "378/378 [==============================] - 4s 10ms/step - loss: 1956350301.9683 - acc: 0.0000e+00\n",
      "Epoch 5/100\n",
      "378/378 [==============================] - 4s 10ms/step - loss: 29045679901.1217 - acc: 0.0000e+00\n",
      "Epoch 6/100\n",
      "378/378 [==============================] - 4s 10ms/step - loss: 1824716300.1905 - acc: 0.0000e+00\n",
      "Epoch 7/100\n",
      "378/378 [==============================] - 4s 10ms/step - loss: 1744646420.3175 - acc: 0.0000e+00\n",
      "Epoch 8/100\n",
      "378/378 [==============================] - 4s 10ms/step - loss: 1583747781.4180 - acc: 0.0000e+00\n",
      "Epoch 9/100\n",
      "378/378 [==============================] - 4s 10ms/step - loss: 2949830430.8995 - acc: 0.0000e+00\n",
      "Epoch 10/100\n",
      "378/378 [==============================] - 4s 10ms/step - loss: 945050604.6779 - acc: 0.0000e+00\n",
      "Epoch 11/100\n",
      "378/378 [==============================] - 4s 10ms/step - loss: 610096800.0426 - acc: 0.0000e+00\n",
      "Epoch 12/100\n",
      "378/378 [==============================] - 4s 10ms/step - loss: 435793656.9758 - acc: 0.0000e+00\n",
      "Epoch 13/100\n",
      "378/378 [==============================] - 4s 10ms/step - loss: 222751399.9155 - acc: 0.0000e+00\n",
      "Epoch 14/100\n",
      "378/378 [==============================] - 4s 10ms/step - loss: 185786222.4929 - acc: 0.0000e+00\n",
      "Epoch 15/100\n",
      "378/378 [==============================] - 4s 10ms/step - loss: 151148582.7509 - acc: 0.0000e+00\n",
      "Epoch 16/100\n",
      "378/378 [==============================] - 4s 10ms/step - loss: 141444297.3517 - acc: 0.0000e+00\n",
      "Epoch 17/100\n",
      "378/378 [==============================] - 4s 10ms/step - loss: 105564100.5684 - acc: 0.0000e+00\n",
      "Epoch 18/100\n",
      "378/378 [==============================] - 4s 10ms/step - loss: 107451213.6373 - acc: 0.0000e+00\n",
      "Epoch 19/100\n",
      "378/378 [==============================] - 4s 10ms/step - loss: 115029114.1619 - acc: 0.0000e+00\n",
      "Epoch 20/100\n",
      "378/378 [==============================] - 4s 10ms/step - loss: 96266127.4714 - acc: 0.0000e+00\n",
      "Epoch 21/100\n",
      "378/378 [==============================] - 4s 10ms/step - loss: 100855714.7471 - acc: 0.0000e+00\n",
      "Epoch 22/100\n",
      "378/378 [==============================] - 4s 10ms/step - loss: 94590098.8639 - acc: 0.0000e+00\n",
      "Epoch 23/100\n",
      "378/378 [==============================] - 4s 10ms/step - loss: 81766630.9697 - acc: 0.0000e+00\n",
      "Epoch 24/100\n",
      "378/378 [==============================] - 4s 10ms/step - loss: 85531499.4385 - acc: 0.0000e+00\n",
      "Epoch 25/100\n",
      "378/378 [==============================] - 4s 10ms/step - loss: 83986048.4721 - acc: 0.0000e+00\n",
      "Epoch 26/100\n",
      "378/378 [==============================] - 4s 10ms/step - loss: 81238975.1478 - acc: 0.0000e+00\n",
      "Epoch 27/100\n",
      "378/378 [==============================] - 4s 10ms/step - loss: 71207549.7972 - acc: 0.0000e+00\n",
      "Epoch 28/100\n",
      "378/378 [==============================] - 4s 10ms/step - loss: 80580609.0457 - acc: 0.0000e+00\n",
      "Epoch 29/100\n",
      "378/378 [==============================] - 4s 10ms/step - loss: 69046748.7215 - acc: 0.0026\n",
      "Epoch 30/100\n",
      "378/378 [==============================] - 4s 10ms/step - loss: 68441926.9831 - acc: 0.0000e+00\n",
      "Epoch 31/100\n",
      "378/378 [==============================] - 4s 10ms/step - loss: 61558853.3020 - acc: 0.0000e+00\n",
      "Epoch 32/100\n",
      "378/378 [==============================] - 4s 10ms/step - loss: 61116871.0600 - acc: 0.0000e+00\n",
      "Epoch 33/100\n",
      "378/378 [==============================] - 4s 10ms/step - loss: 51316846.4088 - acc: 0.0000e+00\n",
      "Epoch 34/100\n",
      "378/378 [==============================] - 4s 10ms/step - loss: 52945823.5123 - acc: 0.0000e+00\n",
      "Epoch 35/100\n",
      "378/378 [==============================] - 4s 10ms/step - loss: 48998032.8333 - acc: 0.0000e+00\n",
      "Epoch 36/100\n",
      "378/378 [==============================] - 4s 10ms/step - loss: 48488149.9657 - acc: 0.0000e+00\n",
      "Epoch 37/100\n",
      "378/378 [==============================] - 4s 10ms/step - loss: 45483233.3225 - acc: 0.0000e+00\n",
      "Epoch 38/100\n",
      "378/378 [==============================] - 4s 10ms/step - loss: 46302247.5995 - acc: 0.0000e+00\n",
      "Epoch 39/100\n",
      "378/378 [==============================] - 4s 10ms/step - loss: 45918153.5309 - acc: 0.0026\n",
      "Epoch 40/100\n",
      "378/378 [==============================] - 4s 10ms/step - loss: 37548123.7962 - acc: 0.0000e+00\n",
      "Epoch 41/100\n",
      "378/378 [==============================] - 4s 10ms/step - loss: 36886285.3490 - acc: 0.0000e+00\n",
      "Epoch 42/100\n",
      "378/378 [==============================] - 4s 10ms/step - loss: 38810203.7635 - acc: 0.0000e+00\n",
      "Epoch 43/100\n",
      "378/378 [==============================] - 4s 10ms/step - loss: 35528350.1502 - acc: 0.0000e+00\n",
      "Epoch 44/100\n",
      "378/378 [==============================] - 4s 10ms/step - loss: 36042199.0270 - acc: 0.0000e+00\n",
      "Epoch 45/100\n",
      "378/378 [==============================] - 4s 10ms/step - loss: 29297284.8800 - acc: 0.0000e+00\n",
      "Epoch 46/100\n",
      "378/378 [==============================] - 4s 10ms/step - loss: 32212740.8810 - acc: 0.0000e+00\n",
      "Epoch 47/100\n",
      "378/378 [==============================] - 4s 10ms/step - loss: 31655361.4686 - acc: 0.0000e+00\n",
      "Epoch 48/100\n",
      "378/378 [==============================] - 4s 10ms/step - loss: 26168038.6417 - acc: 0.0000e+00\n",
      "Epoch 49/100\n",
      "378/378 [==============================] - 4s 10ms/step - loss: 29246940.2950 - acc: 0.0000e+00\n",
      "Epoch 50/100\n",
      "378/378 [==============================] - 4s 10ms/step - loss: 30393763.0621 - acc: 0.0000e+00\n",
      "Epoch 51/100\n",
      "378/378 [==============================] - 4s 10ms/step - loss: 30518362.0260 - acc: 0.0000e+00\n",
      "Epoch 52/100\n",
      "378/378 [==============================] - 4s 10ms/step - loss: 30775747.6190 - acc: 0.0000e+00\n",
      "Epoch 53/100\n",
      "378/378 [==============================] - 4s 10ms/step - loss: 25630327.4461 - acc: 0.0000e+00\n",
      "Epoch 54/100\n",
      "378/378 [==============================] - 4s 10ms/step - loss: 23525942.9120 - acc: 0.0000e+00\n",
      "Epoch 55/100\n",
      "378/378 [==============================] - 4s 10ms/step - loss: 21075564.6040 - acc: 0.0000e+00\n",
      "Epoch 56/100\n",
      "378/378 [==============================] - 4s 10ms/step - loss: 26695420.5272 - acc: 0.0000e+00\n",
      "Epoch 57/100\n",
      "378/378 [==============================] - 4s 10ms/step - loss: 22575377.7615 - acc: 0.0000e+00\n",
      "Epoch 58/100\n",
      "378/378 [==============================] - 4s 10ms/step - loss: 28886828.9813 - acc: 0.0000e+00\n",
      "Epoch 59/100\n",
      "378/378 [==============================] - 4s 10ms/step - loss: 23304413.5821 - acc: 0.0000e+00\n",
      "Epoch 60/100\n",
      "378/378 [==============================] - 4s 10ms/step - loss: 20758198.6748 - acc: 0.0000e+00\n",
      "Epoch 61/100\n",
      "378/378 [==============================] - 4s 10ms/step - loss: 19755509.6718 - acc: 0.0026\n",
      "Epoch 62/100\n",
      "378/378 [==============================] - 4s 10ms/step - loss: 19329685.8943 - acc: 0.0000e+00\n",
      "Epoch 63/100\n",
      "378/378 [==============================] - 4s 10ms/step - loss: 20758679.9798 - acc: 0.0000e+00\n",
      "Epoch 64/100\n",
      "378/378 [==============================] - 4s 10ms/step - loss: 22634623.2145 - acc: 0.0000e+00\n",
      "Epoch 65/100\n",
      "378/378 [==============================] - 4s 10ms/step - loss: 16759264.1295 - acc: 0.0000e+00\n",
      "Epoch 66/100\n",
      "378/378 [==============================] - 4s 10ms/step - loss: 19622445.0658 - acc: 0.0000e+00\n",
      "Epoch 67/100\n",
      "378/378 [==============================] - 4s 10ms/step - loss: 21888080.6616 - acc: 0.0000e+00\n",
      "Epoch 68/100\n",
      "378/378 [==============================] - 4s 10ms/step - loss: 17110438.4861 - acc: 0.0000e+00\n",
      "Epoch 69/100\n",
      "378/378 [==============================] - 4s 10ms/step - loss: 20369332.7604 - acc: 0.0000e+00\n",
      "Epoch 70/100\n",
      "378/378 [==============================] - 4s 10ms/step - loss: 22124249.9007 - acc: 0.0000e+00\n",
      "Epoch 71/100\n",
      "378/378 [==============================] - 4s 10ms/step - loss: 16692110.1182 - acc: 0.0000e+00\n",
      "Epoch 72/100\n",
      "378/378 [==============================] - 4s 10ms/step - loss: 17053310.3977 - acc: 0.0000e+00\n",
      "Epoch 73/100\n"
     ]
    },
    {
     "name": "stdout",
     "output_type": "stream",
     "text": [
      "378/378 [==============================] - 4s 10ms/step - loss: 16569248.5351 - acc: 0.0000e+00\n",
      "Epoch 74/100\n",
      "378/378 [==============================] - 4s 10ms/step - loss: 17464157.2016 - acc: 0.0000e+00\n",
      "Epoch 75/100\n",
      "378/378 [==============================] - 4s 10ms/step - loss: 17599020.7101 - acc: 0.0000e+00\n",
      "Epoch 76/100\n",
      "378/378 [==============================] - 4s 10ms/step - loss: 18452175.9807 - acc: 0.0000e+00\n",
      "Epoch 77/100\n",
      "378/378 [==============================] - 4s 10ms/step - loss: 18625857.1973 - acc: 0.0000e+00\n",
      "Epoch 78/100\n",
      "378/378 [==============================] - 4s 10ms/step - loss: 16658914.9747 - acc: 0.0000e+00\n",
      "Epoch 79/100\n",
      "378/378 [==============================] - 4s 10ms/step - loss: 17783308.6182 - acc: 0.0000e+00\n",
      "Epoch 80/100\n",
      "378/378 [==============================] - 4s 10ms/step - loss: 17488634.4982 - acc: 0.0000e+00\n",
      "Epoch 81/100\n",
      "378/378 [==============================] - 4s 10ms/step - loss: 17301465.6734 - acc: 0.0000e+00\n",
      "Epoch 82/100\n",
      "378/378 [==============================] - 4s 10ms/step - loss: 17638733.1792 - acc: 0.0000e+00\n",
      "Epoch 83/100\n",
      "378/378 [==============================] - 4s 10ms/step - loss: 14020766.1635 - acc: 0.0000e+00\n",
      "Epoch 84/100\n",
      "378/378 [==============================] - 4s 10ms/step - loss: 17393986.8326 - acc: 0.0000e+00\n",
      "Epoch 85/100\n",
      "378/378 [==============================] - 4s 10ms/step - loss: 17014847.7118 - acc: 0.0000e+00\n",
      "Epoch 86/100\n",
      "378/378 [==============================] - 4s 10ms/step - loss: 17176536.7672 - acc: 0.0000e+00\n",
      "Epoch 87/100\n",
      "378/378 [==============================] - 4s 10ms/step - loss: 15579210.8159 - acc: 0.0000e+00\n",
      "Epoch 88/100\n",
      "378/378 [==============================] - 4s 10ms/step - loss: 17459636.4211 - acc: 0.0000e+00\n",
      "Epoch 89/100\n",
      "378/378 [==============================] - 4s 10ms/step - loss: 15148425.5503 - acc: 0.0000e+00\n",
      "Epoch 90/100\n",
      "378/378 [==============================] - 4s 10ms/step - loss: 15865729.0218 - acc: 0.0000e+00\n",
      "Epoch 91/100\n",
      "378/378 [==============================] - 4s 10ms/step - loss: 15238547.8509 - acc: 0.0000e+00\n",
      "Epoch 92/100\n",
      "378/378 [==============================] - 4s 10ms/step - loss: 17438894.4919 - acc: 0.0000e+00\n",
      "Epoch 93/100\n",
      "378/378 [==============================] - 4s 10ms/step - loss: 15180424.5507 - acc: 0.0000e+00\n",
      "Epoch 94/100\n",
      "378/378 [==============================] - 4s 10ms/step - loss: 14334812.3034 - acc: 0.0000e+00\n",
      "Epoch 95/100\n",
      "378/378 [==============================] - 4s 10ms/step - loss: 18071993.5404 - acc: 0.0000e+00\n",
      "Epoch 96/100\n",
      "378/378 [==============================] - 4s 10ms/step - loss: 14170530.3615 - acc: 0.0000e+00\n",
      "Epoch 97/100\n",
      "378/378 [==============================] - 4s 10ms/step - loss: 15613279.9455 - acc: 0.0000e+00\n",
      "Epoch 98/100\n",
      "378/378 [==============================] - 4s 10ms/step - loss: 17371148.5185 - acc: 0.0000e+00\n",
      "Epoch 99/100\n",
      "378/378 [==============================] - 4s 10ms/step - loss: 17610634.5702 - acc: 0.0000e+00\n",
      "Epoch 100/100\n",
      "378/378 [==============================] - 4s 10ms/step - loss: 16011517.8220 - acc: 0.0000e+00\n"
     ]
    },
    {
     "data": {
      "text/plain": [
       "<keras.callbacks.History at 0x2356ba207f0>"
      ]
     },
     "execution_count": 25,
     "metadata": {},
     "output_type": "execute_result"
    }
   ],
   "source": [
    "inp = Input(shape=(x_train.shape[1],x_train.shape[2]))\n",
    "x1 = LSTM(128, activation='relu')(inp)\n",
    "x1 = Dense(256)(x1)\n",
    "x1 = LeakyReLU(alpha=0.05)(x1)\n",
    "x1 = Dropout(0.4)(x1)\n",
    "x1 = Dense(128)(x1)\n",
    "x1 = LeakyReLU(alpha=0.05)(x1)\n",
    "x1 = Dropout(0.25)(x1)\n",
    "x1 = Dense(64)(x1)\n",
    "x1 = LeakyReLU(alpha=0.05)(x1)\n",
    "out = Dense(1)(x1)\n",
    "\n",
    "model = Model(inputs=inp, outputs=out)\n",
    "# 훈련\n",
    "model.compile(loss='mse', optimizer='adam', metrics=['acc'])\n",
    "model.fit(x_train, y_train, epochs=100, batch_size=1)"
   ]
  },
  {
   "cell_type": "code",
   "execution_count": 26,
   "metadata": {},
   "outputs": [],
   "source": [
    "y_predict = model.predict(x_test)"
   ]
  },
  {
   "cell_type": "code",
   "execution_count": 27,
   "metadata": {},
   "outputs": [
    {
     "name": "stdout",
     "output_type": "stream",
     "text": [
      "RMSE : 2127.3026287327707\n"
     ]
    }
   ],
   "source": [
    "from sklearn.metrics import mean_squared_error\n",
    "def RMSE(y_test, y_predict): # 실제 정답값, 모델을 통한 예측값 \n",
    "    return np.sqrt(mean_squared_error(y_test, y_predict))\n",
    "print('RMSE :', RMSE(y_test, y_predict))"
   ]
  },
  {
   "cell_type": "code",
   "execution_count": 28,
   "metadata": {},
   "outputs": [
    {
     "name": "stdout",
     "output_type": "stream",
     "text": [
      "[[49455.402]]\n"
     ]
    }
   ],
   "source": [
    "print(model.predict(final_predict_data))"
   ]
  }
 ],
 "metadata": {
  "kernelspec": {
   "display_name": "Python 3",
   "language": "python",
   "name": "python3"
  },
  "language_info": {
   "codemirror_mode": {
    "name": "ipython",
    "version": 3
   },
   "file_extension": ".py",
   "mimetype": "text/x-python",
   "name": "python",
   "nbconvert_exporter": "python",
   "pygments_lexer": "ipython3",
   "version": "3.7.3"
  }
 },
 "nbformat": 4,
 "nbformat_minor": 4
}
