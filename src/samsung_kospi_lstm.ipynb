{
 "cells": [
  {
   "cell_type": "code",
   "execution_count": 20,
   "metadata": {},
   "outputs": [],
   "source": [
    "import numpy as np\n",
    "import pandas as pd\n",
    "from sklearn.model_selection import train_test_split\n",
    "from keras import models, layers, activations, initializers, losses, optimizers, metrics\n",
    "from keras.models import Sequential, Model\n",
    "from keras.layers import Dense, Input, LeakyReLU, Dropout, BatchNormalization\n",
    "from keras.layers.merge import concatenate\n",
    "from sklearn.preprocessing import MinMaxScaler, StandardScaler"
   ]
  },
  {
   "cell_type": "code",
   "execution_count": 8,
   "metadata": {},
   "outputs": [],
   "source": [
    "def split_sequence(sequence, n_steps):\n",
    "    X, y = list(), list()\n",
    "    length = len(sequence)\n",
    "    col_length = len(sequence[0])\n",
    "    for i in range(length):\n",
    "        end_ix = i + n_steps\n",
    "        if end_ix > length-1:\n",
    "            break\n",
    "        seq_x, seq_y = sequence[i:end_ix, :], sequence[end_ix, col_length-1]\n",
    "        X.append(seq_x)\n",
    "        y.append(seq_y)\n",
    "    return np.array(X), np.array(y)"
   ]
  },
  {
   "cell_type": "code",
   "execution_count": 24,
   "metadata": {},
   "outputs": [],
   "source": [
    "kospi = pd.read_csv('data/kospi200.csv', encoding='euc-kr')\n",
    "\n",
    "kospi = kospi.iloc[:,1:].copy()\n",
    "\n",
    "kospi = pd.concat([kospi.iloc[:,:3], kospi.iloc[:,4], kospi.iloc[:,3]], axis=1)\n",
    "\n",
    "kospi['거래량'] = kospi['거래량'].apply(lambda x: x.replace(\",\",\"\",-1))\n",
    "\n",
    "for i in kospi.columns:\n",
    "    kospi[i] = kospi[i].astype(float)\n",
    "\n",
    "kospi = np.array(kospi)"
   ]
  },
  {
   "cell_type": "code",
   "execution_count": 25,
   "metadata": {},
   "outputs": [],
   "source": [
    "data = pd.read_csv('data/samsung.csv', encoding='euc-kr')\n",
    "\n",
    "data = data.iloc[:,1:].copy()\n",
    "\n",
    "data = pd.concat([data.iloc[:,:3], data.iloc[:,4], data.iloc[:,3]], axis=1)\n",
    "\n",
    "for i in data.columns:\n",
    "    data[i] = data[i].apply(lambda x: x.replace(\",\",\"\",-1))\n",
    "\n",
    "for i in data.columns:\n",
    "    data[i] = data[i].astype(int)\n",
    "\n",
    "data = np.array(data)"
   ]
  },
  {
   "cell_type": "code",
   "execution_count": 26,
   "metadata": {},
   "outputs": [],
   "source": [
    "n_steps = 5\n",
    "samsung_x, samsung_y = split_sequence(data, n_steps)\n",
    "kospi_x, _ = split_sequence(kospi, n_steps)"
   ]
  },
  {
   "cell_type": "code",
   "execution_count": 27,
   "metadata": {},
   "outputs": [
    {
     "name": "stdout",
     "output_type": "stream",
     "text": [
      "(421, 25, 1)\n",
      "(421, 25, 1)\n"
     ]
    }
   ],
   "source": [
    "samsung_x = samsung_x.reshape((samsung_x.shape[0], -1))\n",
    "scaler = StandardScaler()\n",
    "scaler.fit(samsung_x)\n",
    "samsung_x = scaler.transform(samsung_x)\n",
    "samsung_x = samsung_x.reshape((samsung_x.shape[0], -1, 1))\n",
    "print(samsung_x.shape)\n",
    "kospi_x = kospi_x.reshape((kospi_x.shape[0], -1))\n",
    "scaler = StandardScaler()\n",
    "scaler.fit(kospi_x)\n",
    "kospi_x = scaler.transform(kospi_x)\n",
    "kospi_x = kospi_x.reshape((kospi_x.shape[0], -1, 1))\n",
    "print(kospi_x.shape)"
   ]
  },
  {
   "cell_type": "code",
   "execution_count": 28,
   "metadata": {},
   "outputs": [],
   "source": [
    "final_predict_samsung, final_predict_kospi = samsung_x[-1:,:], kospi_x[-1:,:]"
   ]
  },
  {
   "cell_type": "code",
   "execution_count": 29,
   "metadata": {},
   "outputs": [],
   "source": [
    "from sklearn.model_selection import train_test_split\n",
    "\n",
    "samsung_x_train, samsung_x_test, kospi_x_train, kospi_x_test, y_train, y_test = train_test_split(\n",
    "    samsung_x, kospi_x, samsung_y, train_size=0.9, random_state=66, shuffle=True\n",
    ")"
   ]
  },
  {
   "cell_type": "code",
   "execution_count": 30,
   "metadata": {},
   "outputs": [],
   "source": [
    "inp1 = Input(shape=(samsung_x.shape[1],samsung_x.shape[2]))\n",
    "x = LSTM(128, activation='relu')(inp1)\n",
    "x = Dense(256)(x)\n",
    "x = LeakyReLU(alpha=0.05)(x)\n",
    "x = Dropout(0.25)(x)\n",
    "x = Dense(128)(x)\n",
    "x = LeakyReLU(alpha=0.05)(x)\n",
    "x = Dropout(0.25)(x)\n",
    "x = Dense(64)(x)\n",
    "out1 = LeakyReLU(alpha=0.05)(x)\n",
    "\n",
    "inp2 = Input(shape=(kospi_x.shape[1],kospi_x.shape[2]))\n",
    "x1 = LSTM(128, activation='relu')(inp2)\n",
    "x1 = Dense(256)(x1)\n",
    "x1 = LeakyReLU(alpha=0.05)(x1)\n",
    "x1 = Dropout(0.4)(x1)\n",
    "x1 = Dense(128)(x1)\n",
    "x1 = LeakyReLU(alpha=0.05)(x1)\n",
    "x1 = Dropout(0.25)(x1)\n",
    "x1 = Dense(64)(x1)\n",
    "out2 = LeakyReLU(alpha=0.05)(x1)\n",
    "\n",
    "merge = concatenate([out1, out2])\n",
    "merge = Dense(32, activation='relu', kernel_initializer='he_normal')(merge)\n",
    "merge = Dense(16, activation='relu', kernel_initializer='he_normal')(merge)\n",
    "output = Dense(1, activation='linear', kernel_initializer='he_normal')(merge)\n",
    "\n",
    "model = Model(inputs=[inp1, inp2], outputs=output)"
   ]
  },
  {
   "cell_type": "code",
   "execution_count": 31,
   "metadata": {
    "scrolled": true
   },
   "outputs": [
    {
     "name": "stdout",
     "output_type": "stream",
     "text": [
      "Epoch 1/100\n",
      "378/378 [==============================] - 27s 70ms/step - loss: 4008404408.4444 - acc: 0.0000e+00\n",
      "Epoch 2/100\n",
      "378/378 [==============================] - 15s 38ms/step - loss: 2073589380.3598 - acc: 0.0000e+00\n",
      "Epoch 3/100\n",
      "378/378 [==============================] - 15s 39ms/step - loss: 2119835835.7963 - acc: 0.0000e+000s - loss: 2118347598.6785 - a\n",
      "Epoch 4/100\n",
      "378/378 [==============================] - 15s 39ms/step - loss: 4003509879493.5239 - acc: 0.0000e+00\n",
      "Epoch 5/100\n",
      "378/378 [==============================] - 15s 38ms/step - loss: 229394749.4818 - acc: 0.0000e+00\n",
      "Epoch 6/100\n",
      "378/378 [==============================] - 14s 38ms/step - loss: 92760440.2371 - acc: 0.0000e+00\n",
      "Epoch 7/100\n",
      "378/378 [==============================] - 14s 38ms/step - loss: 160656872.4420 - acc: 0.0000e+00 1s - loss: 1743590\n",
      "Epoch 8/100\n",
      "378/378 [==============================] - 15s 39ms/step - loss: 82041414.6780 - acc: 0.0000e+00\n",
      "Epoch 9/100\n",
      "378/378 [==============================] - 15s 38ms/step - loss: 75005820.5888 - acc: 0.0000e+00\n",
      "Epoch 10/100\n",
      "378/378 [==============================] - 15s 39ms/step - loss: 71831002.4632 - acc: 0.0000e+00\n",
      "Epoch 11/100\n",
      "378/378 [==============================] - 15s 39ms/step - loss: 68968181.9228 - acc: 0.0000e+00\n",
      "Epoch 12/100\n",
      "378/378 [==============================] - 15s 39ms/step - loss: 60294450.0722 - acc: 0.0000e+00\n",
      "Epoch 13/100\n",
      "378/378 [==============================] - 14s 38ms/step - loss: 48805460.2103 - acc: 0.0000e+00\n",
      "Epoch 14/100\n",
      "378/378 [==============================] - 14s 38ms/step - loss: 42443485.3967 - acc: 0.0000e+00\n",
      "Epoch 15/100\n",
      "378/378 [==============================] - 14s 38ms/step - loss: 50315300.7654 - acc: 0.0000e+00\n",
      "Epoch 16/100\n",
      "378/378 [==============================] - 14s 37ms/step - loss: 43998763.2250 - acc: 0.0000e+000s - loss: 43879181.77\n",
      "Epoch 17/100\n",
      "378/378 [==============================] - 14s 38ms/step - loss: 40899461.9601 - acc: 0.0000e+00\n",
      "Epoch 18/100\n",
      "378/378 [==============================] - 14s 38ms/step - loss: 41206602.6304 - acc: 0.0000e+00\n",
      "Epoch 19/100\n",
      "378/378 [==============================] - 14s 38ms/step - loss: 38382682.9082 - acc: 0.0000e+00\n",
      "Epoch 20/100\n",
      "378/378 [==============================] - 14s 38ms/step - loss: 39201391.5471 - acc: 0.0000e+00\n",
      "Epoch 21/100\n",
      "378/378 [==============================] - 14s 38ms/step - loss: 37082586.9326 - acc: 0.0000e+00\n",
      "Epoch 22/100\n",
      "378/378 [==============================] - 14s 38ms/step - loss: 32144817.0825 - acc: 0.0000e+00\n",
      "Epoch 23/100\n",
      "378/378 [==============================] - 14s 38ms/step - loss: 36592889.7168 - acc: 0.0000e+00\n",
      "Epoch 24/100\n",
      "378/378 [==============================] - 14s 38ms/step - loss: 29786862.3090 - acc: 0.0000e+00\n",
      "Epoch 25/100\n",
      "378/378 [==============================] - 14s 38ms/step - loss: 29495518.7653 - acc: 0.0000e+00\n",
      "Epoch 26/100\n",
      "378/378 [==============================] - 14s 38ms/step - loss: 31324202.1091 - acc: 0.0000e+00\n",
      "Epoch 27/100\n",
      "378/378 [==============================] - 14s 38ms/step - loss: 30935040.3536 - acc: 0.0000e+00\n",
      "Epoch 28/100\n",
      "378/378 [==============================] - 14s 38ms/step - loss: 30504670.1028 - acc: 0.0000e+00\n",
      "Epoch 29/100\n",
      "378/378 [==============================] - 14s 38ms/step - loss: 27711709.9321 - acc: 0.0000e+00\n",
      "Epoch 30/100\n",
      "378/378 [==============================] - 14s 38ms/step - loss: 23353273.5756 - acc: 0.0000e+00\n",
      "Epoch 31/100\n",
      "378/378 [==============================] - 14s 38ms/step - loss: 26546673.7673 - acc: 0.0000e+00\n",
      "Epoch 32/100\n",
      "378/378 [==============================] - ETA: 0s - loss: 21290694.8832 - acc: 0.0000e+ - 14s 38ms/step - loss: 21269157.6798 - acc: 0.0000e+00\n",
      "Epoch 33/100\n",
      "378/378 [==============================] - 14s 38ms/step - loss: 23863738.7377 - acc: 0.0000e+00\n",
      "Epoch 34/100\n",
      "378/378 [==============================] - 14s 38ms/step - loss: 18638775.7095 - acc: 0.0000e+00\n",
      "Epoch 35/100\n",
      "378/378 [==============================] - 14s 38ms/step - loss: 19802372.0121 - acc: 0.0000e+00\n",
      "Epoch 36/100\n",
      "378/378 [==============================] - 14s 38ms/step - loss: 19172999.1801 - acc: 0.0000e+00\n",
      "Epoch 37/100\n",
      "378/378 [==============================] - 9s 23ms/step - loss: 16662084.4843 - acc: 0.0000e+00\n",
      "Epoch 38/100\n",
      "378/378 [==============================] - 5s 12ms/step - loss: 20148509.9675 - acc: 0.0000e+00\n",
      "Epoch 39/100\n",
      "378/378 [==============================] - 5s 12ms/step - loss: 17648044.4480 - acc: 0.0000e+00\n",
      "Epoch 40/100\n",
      "378/378 [==============================] - 5s 12ms/step - loss: 17620405.9382 - acc: 0.0000e+00\n",
      "Epoch 41/100\n",
      "378/378 [==============================] - 5s 12ms/step - loss: 14262748.9459 - acc: 0.0000e+00\n",
      "Epoch 42/100\n",
      "378/378 [==============================] - 5s 12ms/step - loss: 15614976.7236 - acc: 0.0000e+00\n",
      "Epoch 43/100\n",
      "378/378 [==============================] - 5s 12ms/step - loss: 14001351.5750 - acc: 0.0000e+00\n",
      "Epoch 44/100\n",
      "378/378 [==============================] - 5s 12ms/step - loss: 15170939.0605 - acc: 0.0000e+00\n",
      "Epoch 45/100\n",
      "378/378 [==============================] - 5s 12ms/step - loss: 15662548.6463 - acc: 0.0000e+00\n",
      "Epoch 46/100\n",
      "378/378 [==============================] - 5s 12ms/step - loss: 14785911.7199 - acc: 0.0000e+00\n",
      "Epoch 47/100\n",
      "378/378 [==============================] - 5s 12ms/step - loss: 15013443.4101 - acc: 0.0000e+00\n",
      "Epoch 48/100\n",
      "378/378 [==============================] - 5s 12ms/step - loss: 13176813.8944 - acc: 0.0000e+00\n",
      "Epoch 49/100\n",
      "378/378 [==============================] - 5s 12ms/step - loss: 14973643.6081 - acc: 0.0000e+00\n",
      "Epoch 50/100\n",
      "378/378 [==============================] - 5s 12ms/step - loss: 14834852.2753 - acc: 0.0000e+00\n",
      "Epoch 51/100\n",
      "378/378 [==============================] - 5s 12ms/step - loss: 13140828.9486 - acc: 0.0000e+00\n",
      "Epoch 52/100\n",
      "378/378 [==============================] - 5s 12ms/step - loss: 14734372.3620 - acc: 0.0000e+00\n",
      "Epoch 53/100\n",
      "378/378 [==============================] - 5s 12ms/step - loss: 11609946.4990 - acc: 0.0000e+00\n",
      "Epoch 54/100\n",
      "378/378 [==============================] - 5s 12ms/step - loss: 10438697.0176 - acc: 0.0000e+00\n",
      "Epoch 55/100\n",
      "378/378 [==============================] - 5s 12ms/step - loss: 12921312.3713 - acc: 0.0000e+00\n",
      "Epoch 56/100\n",
      "378/378 [==============================] - 5s 12ms/step - loss: 12433950.3097 - acc: 0.0000e+00\n",
      "Epoch 57/100\n",
      "378/378 [==============================] - 5s 12ms/step - loss: 12498084.4997 - acc: 0.0026\n",
      "Epoch 58/100\n",
      "378/378 [==============================] - 5s 12ms/step - loss: 11432434.2059 - acc: 0.0000e+00\n",
      "Epoch 59/100\n",
      "378/378 [==============================] - 5s 12ms/step - loss: 11526835.2250 - acc: 0.0000e+00\n",
      "Epoch 60/100\n",
      "378/378 [==============================] - 5s 12ms/step - loss: 10750472.7491 - acc: 0.0000e+00\n",
      "Epoch 61/100\n",
      "378/378 [==============================] - 4s 12ms/step - loss: 11183286.2672 - acc: 0.0000e+00\n",
      "Epoch 62/100\n",
      "378/378 [==============================] - 4s 12ms/step - loss: 11586680.3606 - acc: 0.0000e+00\n",
      "Epoch 63/100\n",
      "378/378 [==============================] - 5s 12ms/step - loss: 12425978.2436 - acc: 0.0000e+00\n",
      "Epoch 64/100\n",
      "378/378 [==============================] - 5s 12ms/step - loss: 9121322.5176 - acc: 0.0000e+00\n",
      "Epoch 65/100\n",
      "378/378 [==============================] - 5s 12ms/step - loss: 11271330.4873 - acc: 0.0000e+00\n",
      "Epoch 66/100\n",
      "378/378 [==============================] - 5s 12ms/step - loss: 12902672.7595 - acc: 0.0000e+00\n",
      "Epoch 67/100\n",
      "378/378 [==============================] - 5s 12ms/step - loss: 10555405.3376 - acc: 0.0000e+00\n",
      "Epoch 68/100\n",
      "378/378 [==============================] - 5s 12ms/step - loss: 11162245.0078 - acc: 0.0000e+00\n",
      "Epoch 69/100\n",
      "378/378 [==============================] - 5s 12ms/step - loss: 8975882.1715 - acc: 0.0000e+00\n",
      "Epoch 70/100\n",
      "378/378 [==============================] - 5s 12ms/step - loss: 11308978.9347 - acc: 0.0000e+00\n",
      "Epoch 71/100\n",
      "378/378 [==============================] - 5s 12ms/step - loss: 9581541.4262 - acc: 0.0000e+00\n",
      "Epoch 72/100\n",
      "378/378 [==============================] - 5s 12ms/step - loss: 9337912.5989 - acc: 0.0026\n",
      "Epoch 73/100\n",
      "378/378 [==============================] - 5s 12ms/step - loss: 9269822.2803 - acc: 0.0000e+00\n",
      "Epoch 74/100\n"
     ]
    },
    {
     "name": "stdout",
     "output_type": "stream",
     "text": [
      "378/378 [==============================] - 5s 12ms/step - loss: 9424603.4276 - acc: 0.0000e+00\n",
      "Epoch 75/100\n",
      "378/378 [==============================] - 4s 12ms/step - loss: 10010491.7370 - acc: 0.0000e+00\n",
      "Epoch 76/100\n",
      "378/378 [==============================] - 5s 12ms/step - loss: 10672336.9074 - acc: 0.0000e+00\n",
      "Epoch 77/100\n",
      "378/378 [==============================] - 5s 12ms/step - loss: 11269679.1650 - acc: 0.0000e+00\n",
      "Epoch 78/100\n",
      "378/378 [==============================] - 5s 12ms/step - loss: 7890382.7708 - acc: 0.0000e+00\n",
      "Epoch 79/100\n",
      "378/378 [==============================] - 5s 12ms/step - loss: 9081544.9083 - acc: 0.0026\n",
      "Epoch 80/100\n",
      "378/378 [==============================] - 5s 12ms/step - loss: 9597077.7201 - acc: 0.0000e+00\n",
      "Epoch 81/100\n",
      "378/378 [==============================] - 5s 12ms/step - loss: 8598202.8617 - acc: 0.0000e+00\n",
      "Epoch 82/100\n",
      "378/378 [==============================] - 4s 12ms/step - loss: 9072804.5700 - acc: 0.0000e+00\n",
      "Epoch 83/100\n",
      "378/378 [==============================] - 4s 12ms/step - loss: 8639426.6953 - acc: 0.0000e+00\n",
      "Epoch 84/100\n",
      "378/378 [==============================] - 4s 12ms/step - loss: 8233125.1069 - acc: 0.0026\n",
      "Epoch 85/100\n",
      "378/378 [==============================] - 4s 12ms/step - loss: 8335254.7691 - acc: 0.0000e+00\n",
      "Epoch 86/100\n",
      "378/378 [==============================] - 4s 12ms/step - loss: 9477758.9593 - acc: 0.0000e+00\n",
      "Epoch 87/100\n",
      "378/378 [==============================] - 5s 12ms/step - loss: 8125114.8754 - acc: 0.0000e+00\n",
      "Epoch 88/100\n",
      "378/378 [==============================] - 4s 12ms/step - loss: 9028218.5276 - acc: 0.0000e+00\n",
      "Epoch 89/100\n",
      "378/378 [==============================] - 4s 12ms/step - loss: 9133161.4237 - acc: 0.0000e+00\n",
      "Epoch 90/100\n",
      "378/378 [==============================] - 4s 12ms/step - loss: 9030652.2484 - acc: 0.0000e+00\n",
      "Epoch 91/100\n",
      "378/378 [==============================] - 4s 12ms/step - loss: 8655926.8198 - acc: 0.0000e+00\n",
      "Epoch 92/100\n",
      "378/378 [==============================] - 5s 12ms/step - loss: 8890237.2652 - acc: 0.0000e+00\n",
      "Epoch 93/100\n",
      "378/378 [==============================] - 5s 12ms/step - loss: 10016867.6408 - acc: 0.0000e+00\n",
      "Epoch 94/100\n",
      "378/378 [==============================] - 4s 12ms/step - loss: 8648475.5717 - acc: 0.0000e+00\n",
      "Epoch 95/100\n",
      "378/378 [==============================] - 5s 12ms/step - loss: 8865258.3570 - acc: 0.0000e+00\n",
      "Epoch 96/100\n",
      "378/378 [==============================] - 5s 12ms/step - loss: 7754381.6371 - acc: 0.0000e+00\n",
      "Epoch 97/100\n",
      "378/378 [==============================] - 4s 12ms/step - loss: 7919374.7868 - acc: 0.0000e+00\n",
      "Epoch 98/100\n",
      "378/378 [==============================] - 4s 12ms/step - loss: 7372510.4076 - acc: 0.0000e+00\n",
      "Epoch 99/100\n",
      "378/378 [==============================] - 4s 12ms/step - loss: 9012714.9001 - acc: 0.0000e+00\n",
      "Epoch 100/100\n",
      "378/378 [==============================] - 4s 12ms/step - loss: 8224462.7136 - acc: 0.0000e+00\n"
     ]
    },
    {
     "data": {
      "text/plain": [
       "<keras.callbacks.History at 0x14da0bad828>"
      ]
     },
     "execution_count": 31,
     "metadata": {},
     "output_type": "execute_result"
    }
   ],
   "source": [
    "model.compile(loss='mse', optimizer='adam', metrics=['acc'])\n",
    "model.fit([samsung_x_train, kospi_x_train], y_train, epochs=100, batch_size=1)"
   ]
  },
  {
   "cell_type": "code",
   "execution_count": 32,
   "metadata": {},
   "outputs": [],
   "source": [
    "y_predict = model.predict([samsung_x_test, kospi_x_test])"
   ]
  },
  {
   "cell_type": "code",
   "execution_count": 33,
   "metadata": {},
   "outputs": [
    {
     "name": "stdout",
     "output_type": "stream",
     "text": [
      "RMSE : 610.0820417747058\n"
     ]
    }
   ],
   "source": [
    "from sklearn.metrics import mean_squared_error\n",
    "def RMSE(y_test, y_predict): # 실제 정답값, 모델을 통한 예측값 \n",
    "    return np.sqrt(mean_squared_error(y_test, y_predict))\n",
    "print('RMSE :', RMSE(y_test, y_predict))"
   ]
  },
  {
   "cell_type": "code",
   "execution_count": 34,
   "metadata": {},
   "outputs": [
    {
     "name": "stdout",
     "output_type": "stream",
     "text": [
      "[[52781.938]]\n"
     ]
    }
   ],
   "source": [
    "print(model.predict([final_predict_samsung, final_predict_kospi]))"
   ]
  }
 ],
 "metadata": {
  "kernelspec": {
   "display_name": "Python 3",
   "language": "python",
   "name": "python3"
  },
  "language_info": {
   "codemirror_mode": {
    "name": "ipython",
    "version": 3
   },
   "file_extension": ".py",
   "mimetype": "text/x-python",
   "name": "python",
   "nbconvert_exporter": "python",
   "pygments_lexer": "ipython3",
   "version": "3.7.3"
  }
 },
 "nbformat": 4,
 "nbformat_minor": 4
}
