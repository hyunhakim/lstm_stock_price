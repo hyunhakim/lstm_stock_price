{
 "cells": [
  {
   "cell_type": "code",
   "execution_count": 50,
   "metadata": {},
   "outputs": [],
   "source": [
    "import numpy as np\n",
    "import pandas as pd\n",
    "from sklearn.model_selection import train_test_split\n",
    "from keras import models, layers, activations, initializers, losses, optimizers, metrics\n",
    "from keras.models import Sequential, Model\n",
    "from keras.layers import Dense, Input, LeakyReLU, Dropout, BatchNormalization\n",
    "from keras.layers.merge import concatenate\n",
    "from sklearn.preprocessing import MinMaxScaler, StandardScaler"
   ]
  },
  {
   "cell_type": "code",
   "execution_count": 51,
   "metadata": {},
   "outputs": [],
   "source": [
    "def split_sequence(sequence, n_steps):\n",
    "    X, y = list(), list()\n",
    "    length = len(sequence)\n",
    "    col_length = len(sequence[0])\n",
    "    for i in range(length):\n",
    "        end_ix = i + n_steps\n",
    "        if end_ix > length-1:\n",
    "            break\n",
    "        seq_x, seq_y = sequence[i:end_ix, :], sequence[end_ix, col_length-1]\n",
    "        X.append(seq_x)\n",
    "        y.append(seq_y)\n",
    "    return np.array(X), np.array(y)"
   ]
  },
  {
   "cell_type": "code",
   "execution_count": 52,
   "metadata": {},
   "outputs": [],
   "source": [
    "kospi = pd.read_csv('data/kospi200.csv', encoding='euc-kr')\n",
    "kospi = kospi.sort_values(['일자'], ascending=[True])\n",
    "kospi = kospi.iloc[:,1:].copy()\n",
    "\n",
    "kospi = pd.concat([kospi.iloc[:,:3], kospi.iloc[:,4], kospi.iloc[:,3]], axis=1)\n",
    "\n",
    "kospi['거래량'] = kospi['거래량'].apply(lambda x: x.replace(\",\",\"\",-1))\n",
    "\n",
    "for i in kospi.columns:\n",
    "    kospi[i] = kospi[i].astype(float)\n",
    "\n",
    "kospi = np.array(kospi)"
   ]
  },
  {
   "cell_type": "code",
   "execution_count": 53,
   "metadata": {},
   "outputs": [],
   "source": [
    "data = pd.read_csv('data/samsung.csv', encoding='euc-kr')\n",
    "data = data.sort_values(['일자'], ascending=[True])\n",
    "data = data.iloc[:,1:].copy()\n",
    "\n",
    "data = pd.concat([data.iloc[:,:3], data.iloc[:,4], data.iloc[:,3]], axis=1)\n",
    "\n",
    "for i in data.columns:\n",
    "    data[i] = data[i].apply(lambda x: x.replace(\",\",\"\",-1))\n",
    "\n",
    "for i in data.columns:\n",
    "    data[i] = data[i].astype(int)\n",
    "\n",
    "data = np.array(data)"
   ]
  },
  {
   "cell_type": "code",
   "execution_count": 54,
   "metadata": {},
   "outputs": [],
   "source": [
    "n_steps = 5\n",
    "samsung_x, samsung_y = split_sequence(data, n_steps)\n",
    "kospi_x, _ = split_sequence(kospi, n_steps)"
   ]
  },
  {
   "cell_type": "code",
   "execution_count": 55,
   "metadata": {},
   "outputs": [
    {
     "name": "stdout",
     "output_type": "stream",
     "text": [
      "(421, 25, 1)\n",
      "(421, 25, 1)\n"
     ]
    }
   ],
   "source": [
    "samsung_x = samsung_x.reshape((samsung_x.shape[0], -1))\n",
    "scaler = StandardScaler()\n",
    "scaler.fit(samsung_x)\n",
    "samsung_x = scaler.transform(samsung_x)\n",
    "samsung_x = samsung_x.reshape((samsung_x.shape[0], -1, 1))\n",
    "print(samsung_x.shape)\n",
    "kospi_x = kospi_x.reshape((kospi_x.shape[0], -1))\n",
    "scaler = StandardScaler()\n",
    "scaler.fit(kospi_x)\n",
    "kospi_x = scaler.transform(kospi_x)\n",
    "kospi_x = kospi_x.reshape((kospi_x.shape[0], -1, 1))\n",
    "print(kospi_x.shape)"
   ]
  },
  {
   "cell_type": "code",
   "execution_count": 56,
   "metadata": {},
   "outputs": [],
   "source": [
    "final_predict_samsung, final_predict_kospi = samsung_x[-1:,:], kospi_x[-1:,:]"
   ]
  },
  {
   "cell_type": "code",
   "execution_count": 57,
   "metadata": {},
   "outputs": [],
   "source": [
    "from sklearn.model_selection import train_test_split\n",
    "\n",
    "samsung_x_train, samsung_x_test, kospi_x_train, kospi_x_test, y_train, y_test = train_test_split(\n",
    "    samsung_x, kospi_x, samsung_y, train_size=0.9, random_state=66, shuffle=True\n",
    ")"
   ]
  },
  {
   "cell_type": "code",
   "execution_count": 58,
   "metadata": {},
   "outputs": [],
   "source": [
    "inp1 = Input(shape=(samsung_x.shape[1],samsung_x.shape[2]))\n",
    "x = LSTM(128, activation='relu')(inp1)\n",
    "x = Dense(256, kernel_initializer='he_normal')(x)\n",
    "x = LeakyReLU(alpha=0.05)(x)\n",
    "x = Dropout(0.25)(x)\n",
    "x = Dense(128, kernel_initializer='he_normal')(x)\n",
    "x = LeakyReLU(alpha=0.05)(x)\n",
    "x = Dropout(0.25)(x)\n",
    "x = Dense(64, kernel_initializer='he_normal')(x)\n",
    "out1 = LeakyReLU(alpha=0.05)(x)\n",
    "\n",
    "inp2 = Input(shape=(kospi_x.shape[1],kospi_x.shape[2]))\n",
    "x1 = LSTM(128, activation='relu')(inp2)\n",
    "x1 = Dense(256, kernel_initializer='he_normal')(x1)\n",
    "x1 = LeakyReLU(alpha=0.05)(x1)\n",
    "x1 = Dropout(0.4)(x1)\n",
    "x1 = Dense(128, kernel_initializer='he_normal')(x1)\n",
    "x1 = LeakyReLU(alpha=0.05)(x1)\n",
    "x1 = Dropout(0.25)(x1)\n",
    "x1 = Dense(64, kernel_initializer='he_normal')(x1)\n",
    "out2 = LeakyReLU(alpha=0.05)(x1)\n",
    "\n",
    "merge = concatenate([out1, out2])\n",
    "merge = Dense(32, activation='relu', kernel_initializer='he_normal')(merge)\n",
    "merge = Dense(16, activation='relu', kernel_initializer='he_normal')(merge)\n",
    "output = Dense(1, activation='linear', kernel_initializer='he_normal')(merge)\n",
    "\n",
    "model = Model(inputs=[inp1, inp2], outputs=output)"
   ]
  },
  {
   "cell_type": "code",
   "execution_count": 59,
   "metadata": {
    "scrolled": true
   },
   "outputs": [
    {
     "name": "stdout",
     "output_type": "stream",
     "text": [
      "Epoch 1/100\n",
      "378/378 [==============================] - 9s 24ms/step - loss: 7100712551.3704 - acc: 0.0000e+00\n",
      "Epoch 2/100\n",
      "378/378 [==============================] - 6s 16ms/step - loss: 1993359237.5026 - acc: 0.0000e+00\n",
      "Epoch 3/100\n",
      "378/378 [==============================] - 6s 16ms/step - loss: 465414941293.6411 - acc: 0.0000e+00\n",
      "Epoch 4/100\n",
      "378/378 [==============================] - 6s 16ms/step - loss: 478737438.9299 - acc: 0.0000e+00\n",
      "Epoch 5/100\n",
      "378/378 [==============================] - 6s 16ms/step - loss: 180256816.2693 - acc: 0.0000e+00: 0s - loss: 184445816.7899 - acc\n",
      "Epoch 6/100\n",
      "378/378 [==============================] - 6s 16ms/step - loss: 100152969.4462 - acc: 0.0000e+00\n",
      "Epoch 7/100\n",
      "378/378 [==============================] - 6s 16ms/step - loss: 72371936.1624 - acc: 0.0000e+00\n",
      "Epoch 8/100\n",
      "378/378 [==============================] - 6s 16ms/step - loss: 70464542.5961 - acc: 0.0000e+00\n",
      "Epoch 9/100\n",
      "378/378 [==============================] - 6s 16ms/step - loss: 54544534.3612 - acc: 0.0000e+00\n",
      "Epoch 10/100\n",
      "378/378 [==============================] - 6s 16ms/step - loss: 51706055.0827 - acc: 0.0000e+00\n",
      "Epoch 11/100\n",
      "378/378 [==============================] - 6s 16ms/step - loss: 54645333.6485 - acc: 0.0000e+00\n",
      "Epoch 12/100\n",
      "378/378 [==============================] - 6s 17ms/step - loss: 49069325.4222 - acc: 0.0000e+00\n",
      "Epoch 13/100\n",
      "378/378 [==============================] - 6s 16ms/step - loss: 47319866.0043 - acc: 0.0000e+00\n",
      "Epoch 14/100\n",
      "378/378 [==============================] - 6s 16ms/step - loss: 56089949.9435 - acc: 0.0000e+00\n",
      "Epoch 15/100\n",
      "378/378 [==============================] - 6s 16ms/step - loss: 45330522.8801 - acc: 0.0000e+00\n",
      "Epoch 16/100\n",
      "378/378 [==============================] - 6s 16ms/step - loss: 46477194.6853 - acc: 0.0000e+00 0s - loss: 45313174.8413 - acc: \n",
      "Epoch 17/100\n",
      "378/378 [==============================] - 6s 16ms/step - loss: 45727194.1377 - acc: 0.0026\n",
      "Epoch 18/100\n",
      "378/378 [==============================] - 6s 16ms/step - loss: 43395336.1611 - acc: 0.0000e+00\n",
      "Epoch 19/100\n",
      "378/378 [==============================] - 6s 16ms/step - loss: 44433587.0342 - acc: 0.0000e+00\n",
      "Epoch 20/100\n",
      "378/378 [==============================] - 6s 16ms/step - loss: 40774621.7128 - acc: 0.0000e+00\n",
      "Epoch 21/100\n",
      "378/378 [==============================] - 6s 15ms/step - loss: 32602394.8639 - acc: 0.0000e+00\n",
      "Epoch 22/100\n",
      "378/378 [==============================] - 6s 15ms/step - loss: 36177107.0818 - acc: 0.0000e+00\n",
      "Epoch 23/100\n",
      "378/378 [==============================] - 6s 15ms/step - loss: 30206615.7411 - acc: 0.0000e+00\n",
      "Epoch 24/100\n",
      "378/378 [==============================] - 6s 15ms/step - loss: 31271019.0121 - acc: 0.0000e+00\n",
      "Epoch 25/100\n",
      "378/378 [==============================] - 6s 15ms/step - loss: 30197453.3869 - acc: 0.0000e+00\n",
      "Epoch 26/100\n",
      "378/378 [==============================] - 6s 15ms/step - loss: 22469375.1480 - acc: 0.0000e+00 2s - loss: 23934562.75\n",
      "Epoch 27/100\n",
      "378/378 [==============================] - 6s 15ms/step - loss: 25603627.7484 - acc: 0.0000e+00\n",
      "Epoch 28/100\n",
      "378/378 [==============================] - 6s 15ms/step - loss: 22783411.7567 - acc: 0.0000e+00\n",
      "Epoch 29/100\n",
      "378/378 [==============================] - 6s 16ms/step - loss: 25630249.7474 - acc: 0.0000e+00\n",
      "Epoch 30/100\n",
      "378/378 [==============================] - 6s 16ms/step - loss: 23097236.2289 - acc: 0.0000e+00\n",
      "Epoch 31/100\n",
      "378/378 [==============================] - 6s 16ms/step - loss: 20757970.6891 - acc: 0.0000e+00\n",
      "Epoch 32/100\n",
      "378/378 [==============================] - 6s 16ms/step - loss: 21900654.6681 - acc: 0.0000e+00\n",
      "Epoch 33/100\n",
      "378/378 [==============================] - 6s 16ms/step - loss: 19615399.9433 - acc: 0.0000e+00\n",
      "Epoch 34/100\n",
      "378/378 [==============================] - 6s 16ms/step - loss: 19190542.6265 - acc: 0.0000e+00\n",
      "Epoch 35/100\n",
      "378/378 [==============================] - 6s 16ms/step - loss: 15700322.9754 - acc: 0.0000e+00\n",
      "Epoch 36/100\n",
      "378/378 [==============================] - 6s 16ms/step - loss: 16606647.7256 - acc: 0.0000e+00\n",
      "Epoch 37/100\n",
      "378/378 [==============================] - 6s 16ms/step - loss: 16002116.4171 - acc: 0.0000e+00\n",
      "Epoch 38/100\n",
      "378/378 [==============================] - 6s 16ms/step - loss: 16920039.4816 - acc: 0.0000e+00\n",
      "Epoch 39/100\n",
      "378/378 [==============================] - 6s 17ms/step - loss: 15542779.7018 - acc: 0.0000e+00\n",
      "Epoch 40/100\n",
      "378/378 [==============================] - 6s 16ms/step - loss: 15506721.2652 - acc: 0.0000e+00 0s - loss: 16031295.74\n",
      "Epoch 41/100\n",
      "378/378 [==============================] - 6s 16ms/step - loss: 14210682.6071 - acc: 0.0026\n",
      "Epoch 42/100\n",
      "378/378 [==============================] - 6s 16ms/step - loss: 13940237.9385 - acc: 0.0000e+00\n",
      "Epoch 43/100\n",
      "378/378 [==============================] - 6s 16ms/step - loss: 12840808.0202 - acc: 0.0000e+00\n",
      "Epoch 44/100\n",
      "378/378 [==============================] - 6s 16ms/step - loss: 12993640.8959 - acc: 0.0000e+00\n",
      "Epoch 45/100\n",
      "378/378 [==============================] - 6s 16ms/step - loss: 11910803.1549 - acc: 0.0000e+00\n",
      "Epoch 46/100\n",
      "378/378 [==============================] - 6s 16ms/step - loss: 12316231.8086 - acc: 0.0000e+00\n",
      "Epoch 47/100\n",
      "378/378 [==============================] - 6s 16ms/step - loss: 13602738.8852 - acc: 0.0000e+00 1s\n",
      "Epoch 48/100\n",
      "378/378 [==============================] - 6s 15ms/step - loss: 10688224.7078 - acc: 0.0000e+00\n",
      "Epoch 49/100\n",
      "378/378 [==============================] - 6s 15ms/step - loss: 10884075.4580 - acc: 0.0000e+00\n",
      "Epoch 50/100\n",
      "378/378 [==============================] - 6s 15ms/step - loss: 10870660.0176 - acc: 0.0000e+00\n",
      "Epoch 51/100\n",
      "378/378 [==============================] - 6s 15ms/step - loss: 9983610.3456 - acc: 0.0000e+00ETA\n",
      "Epoch 52/100\n",
      "378/378 [==============================] - 6s 16ms/step - loss: 11813650.9809 - acc: 0.0000e+00\n",
      "Epoch 53/100\n",
      "378/378 [==============================] - 6s 16ms/step - loss: 10471667.1511 - acc: 0.0000e+00\n",
      "Epoch 54/100\n",
      "378/378 [==============================] - 6s 16ms/step - loss: 10122359.6290 - acc: 0.0000e+00\n",
      "Epoch 55/100\n",
      "378/378 [==============================] - 6s 16ms/step - loss: 10192185.2599 - acc: 0.0000e+00\n",
      "Epoch 56/100\n",
      "378/378 [==============================] - 6s 16ms/step - loss: 11271923.8702 - acc: 0.0000e+00\n",
      "Epoch 57/100\n",
      "378/378 [==============================] - 6s 16ms/step - loss: 10629043.4991 - acc: 0.0000e+00\n",
      "Epoch 58/100\n",
      "378/378 [==============================] - 6s 16ms/step - loss: 11220570.8461 - acc: 0.0000e+00\n",
      "Epoch 59/100\n",
      "378/378 [==============================] - 6s 16ms/step - loss: 11599140.6254 - acc: 0.0000e+00\n",
      "Epoch 60/100\n",
      "378/378 [==============================] - 6s 16ms/step - loss: 9923534.2857 - acc: 0.0000e+00\n",
      "Epoch 61/100\n",
      "378/378 [==============================] - 6s 16ms/step - loss: 10829526.7962 - acc: 0.0000e+00\n",
      "Epoch 62/100\n",
      "378/378 [==============================] - 6s 16ms/step - loss: 10377381.5199 - acc: 0.0000e+00\n",
      "Epoch 63/100\n",
      "378/378 [==============================] - 6s 16ms/step - loss: 10698704.5503 - acc: 0.0000e+00 1s - los\n",
      "Epoch 64/100\n",
      "378/378 [==============================] - 6s 16ms/step - loss: 8387445.2157 - acc: 0.0000e+00\n",
      "Epoch 65/100\n",
      "378/378 [==============================] - 6s 16ms/step - loss: 10392135.1764 - acc: 0.0000e+00\n",
      "Epoch 66/100\n",
      "378/378 [==============================] - 6s 16ms/step - loss: 10104388.2080 - acc: 0.0000e+00\n",
      "Epoch 67/100\n",
      "378/378 [==============================] - 6s 16ms/step - loss: 9427919.4941 - acc: 0.0000e+00\n",
      "Epoch 68/100\n",
      "378/378 [==============================] - 6s 16ms/step - loss: 10072916.0237 - acc: 0.0000e+00\n",
      "Epoch 69/100\n",
      "378/378 [==============================] - 6s 16ms/step - loss: 10270402.0987 - acc: 0.0000e+00\n",
      "Epoch 70/100\n",
      "378/378 [==============================] - 6s 16ms/step - loss: 9411391.5725 - acc: 0.0000e+00\n",
      "Epoch 71/100\n",
      "378/378 [==============================] - 6s 15ms/step - loss: 8010471.4815 - acc: 0.0000e+00\n",
      "Epoch 72/100\n",
      "378/378 [==============================] - 5s 13ms/step - loss: 9452563.5425 - acc: 0.0000e+00\n",
      "Epoch 73/100\n",
      "378/378 [==============================] - 5s 13ms/step - loss: 8855773.8219 - acc: 0.0000e+00\n",
      "Epoch 74/100\n",
      "378/378 [==============================] - 5s 13ms/step - loss: 9737126.5857 - acc: 0.0000e+00\n",
      "Epoch 75/100\n"
     ]
    },
    {
     "name": "stdout",
     "output_type": "stream",
     "text": [
      "378/378 [==============================] - 5s 13ms/step - loss: 8950598.9141 - acc: 0.0000e+00\n",
      "Epoch 76/100\n",
      "378/378 [==============================] - 5s 13ms/step - loss: 10116543.3172 - acc: 0.0000e+00\n",
      "Epoch 77/100\n",
      "378/378 [==============================] - 5s 13ms/step - loss: 8356709.5223 - acc: 0.0000e+00\n",
      "Epoch 78/100\n",
      "378/378 [==============================] - 5s 13ms/step - loss: 9277285.5642 - acc: 0.0000e+00\n",
      "Epoch 79/100\n",
      "378/378 [==============================] - 5s 13ms/step - loss: 8479509.2111 - acc: 0.0000e+00\n",
      "Epoch 80/100\n",
      "378/378 [==============================] - 5s 13ms/step - loss: 9476193.5334 - acc: 0.0000e+00\n",
      "Epoch 81/100\n",
      "378/378 [==============================] - 5s 13ms/step - loss: 7886427.6564 - acc: 0.0026\n",
      "Epoch 82/100\n",
      "378/378 [==============================] - 5s 13ms/step - loss: 8170773.2556 - acc: 0.0000e+00\n",
      "Epoch 83/100\n",
      "378/378 [==============================] - 5s 13ms/step - loss: 8542709.7002 - acc: 0.0000e+00\n",
      "Epoch 84/100\n",
      "378/378 [==============================] - 5s 13ms/step - loss: 7823920.2297 - acc: 0.0000e+00\n",
      "Epoch 85/100\n",
      "378/378 [==============================] - 5s 13ms/step - loss: 7896950.2047 - acc: 0.0000e+00\n",
      "Epoch 86/100\n",
      "378/378 [==============================] - 5s 13ms/step - loss: 8851833.8670 - acc: 0.0000e+00\n",
      "Epoch 87/100\n",
      "378/378 [==============================] - 5s 13ms/step - loss: 8314210.7430 - acc: 0.0000e+00\n",
      "Epoch 88/100\n",
      "378/378 [==============================] - 5s 13ms/step - loss: 9808570.7671 - acc: 0.0000e+00\n",
      "Epoch 89/100\n",
      "378/378 [==============================] - 5s 13ms/step - loss: 8217748.7806 - acc: 0.0000e+00\n",
      "Epoch 90/100\n",
      "378/378 [==============================] - 5s 13ms/step - loss: 8149157.5564 - acc: 0.0026\n",
      "Epoch 91/100\n",
      "378/378 [==============================] - 5s 13ms/step - loss: 7844316.8978 - acc: 0.0000e+00\n",
      "Epoch 92/100\n",
      "378/378 [==============================] - 5s 13ms/step - loss: 7775405.1086 - acc: 0.0000e+00\n",
      "Epoch 93/100\n",
      "378/378 [==============================] - 5s 13ms/step - loss: 8947069.0760 - acc: 0.0000e+00\n",
      "Epoch 94/100\n",
      "378/378 [==============================] - 5s 13ms/step - loss: 8894523.9670 - acc: 0.0000e+00\n",
      "Epoch 95/100\n",
      "378/378 [==============================] - 5s 13ms/step - loss: 8691759.3753 - acc: 0.0000e+00\n",
      "Epoch 96/100\n",
      "378/378 [==============================] - 5s 13ms/step - loss: 9861792.1672 - acc: 0.0026\n",
      "Epoch 97/100\n",
      "378/378 [==============================] - 5s 13ms/step - loss: 8635249.9893 - acc: 0.0000e+00\n",
      "Epoch 98/100\n",
      "378/378 [==============================] - 5s 13ms/step - loss: 8239955.0070 - acc: 0.0000e+00\n",
      "Epoch 99/100\n",
      "378/378 [==============================] - 5s 13ms/step - loss: 8002214.3303 - acc: 0.0000e+00\n",
      "Epoch 100/100\n",
      "378/378 [==============================] - 5s 13ms/step - loss: 8284175.7420 - acc: 0.0000e+00\n"
     ]
    },
    {
     "data": {
      "text/plain": [
       "<keras.callbacks.History at 0x14da10cf128>"
      ]
     },
     "execution_count": 59,
     "metadata": {},
     "output_type": "execute_result"
    }
   ],
   "source": [
    "model.compile(loss='mse', optimizer='adam', metrics=['acc'])\n",
    "model.fit([samsung_x_train, kospi_x_train], y_train, epochs=100, batch_size=1)"
   ]
  },
  {
   "cell_type": "code",
   "execution_count": 63,
   "metadata": {},
   "outputs": [],
   "source": [
    "y_predict = model.predict([samsung_x_test, kospi_x_test])"
   ]
  },
  {
   "cell_type": "code",
   "execution_count": 64,
   "metadata": {},
   "outputs": [
    {
     "name": "stdout",
     "output_type": "stream",
     "text": [
      "RMSE : 1192.030703324833\n"
     ]
    }
   ],
   "source": [
    "from sklearn.metrics import mean_squared_error\n",
    "def RMSE(y_test, y_predict): # 실제 정답값, 모델을 통한 예측값 \n",
    "    return np.sqrt(mean_squared_error(y_test, y_predict))\n",
    "print('RMSE :', RMSE(y_test, y_predict))"
   ]
  },
  {
   "cell_type": "code",
   "execution_count": 65,
   "metadata": {},
   "outputs": [
    {
     "name": "stdout",
     "output_type": "stream",
     "text": [
      "[[56261.637]]\n"
     ]
    }
   ],
   "source": [
    "print(model.predict([final_predict_samsung, final_predict_kospi]))"
   ]
  }
 ],
 "metadata": {
  "kernelspec": {
   "display_name": "Python 3",
   "language": "python",
   "name": "python3"
  },
  "language_info": {
   "codemirror_mode": {
    "name": "ipython",
    "version": 3
   },
   "file_extension": ".py",
   "mimetype": "text/x-python",
   "name": "python",
   "nbconvert_exporter": "python",
   "pygments_lexer": "ipython3",
   "version": "3.7.3"
  }
 },
 "nbformat": 4,
 "nbformat_minor": 4
}
